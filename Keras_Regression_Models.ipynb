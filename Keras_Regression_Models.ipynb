{
  "nbformat": 4,
  "nbformat_minor": 0,
  "metadata": {
    "colab": {
      "name": "Keras Regression Models  .ipynb",
      "provenance": []
    },
    "kernelspec": {
      "name": "python3",
      "display_name": "Python 3"
    },
    "language_info": {
      "name": "python"
    }
  },
  "cells": [
    {
      "cell_type": "markdown",
      "metadata": {
        "id": "orm9JpqOJwbD"
      },
      "source": [
        "#------------------------------------------------  By Christian O. Sajere  -----------------------\n",
        "--------------------------------------------     Regression Models with Keras \n",
        "By Christian O.Sajere "
      ]
    },
    {
      "cell_type": "markdown",
      "metadata": {
        "id": "gAlWRp9mMley"
      },
      "source": [
        "The model Start with importing the various libaries that will be needed for modeling.\n",
        "\n",
        "\n",
        "\n",
        "\n",
        "\n",
        "\n"
      ]
    },
    {
      "cell_type": "code",
      "metadata": {
        "id": "s8OQUTq1JliW"
      },
      "source": [
        "import keras\n",
        "from keras.models import Sequential\n",
        "from keras.layers import Dense\n",
        "import pandas as pd\n",
        "import numpy as np"
      ],
      "execution_count": 13,
      "outputs": []
    },
    {
      "cell_type": "code",
      "metadata": {
        "colab": {
          "base_uri": "https://localhost:8080/",
          "height": 203
        },
        "id": "iWX5cW2lKNjp",
        "outputId": "295d6db0-f0dc-4a83-c48d-0560671fbf7f"
      },
      "source": [
        "concrete_data = pd.read_csv('https://s3-api.us-geo.objectstorage.softlayer.net/cf-courses-data/CognitiveClass/DL0101EN/labs/data/concrete_data.csv')\n",
        "concrete_data.head()"
      ],
      "execution_count": 14,
      "outputs": [
        {
          "output_type": "execute_result",
          "data": {
            "text/html": [
              "<div>\n",
              "<style scoped>\n",
              "    .dataframe tbody tr th:only-of-type {\n",
              "        vertical-align: middle;\n",
              "    }\n",
              "\n",
              "    .dataframe tbody tr th {\n",
              "        vertical-align: top;\n",
              "    }\n",
              "\n",
              "    .dataframe thead th {\n",
              "        text-align: right;\n",
              "    }\n",
              "</style>\n",
              "<table border=\"1\" class=\"dataframe\">\n",
              "  <thead>\n",
              "    <tr style=\"text-align: right;\">\n",
              "      <th></th>\n",
              "      <th>Cement</th>\n",
              "      <th>Blast Furnace Slag</th>\n",
              "      <th>Fly Ash</th>\n",
              "      <th>Water</th>\n",
              "      <th>Superplasticizer</th>\n",
              "      <th>Coarse Aggregate</th>\n",
              "      <th>Fine Aggregate</th>\n",
              "      <th>Age</th>\n",
              "      <th>Strength</th>\n",
              "    </tr>\n",
              "  </thead>\n",
              "  <tbody>\n",
              "    <tr>\n",
              "      <th>0</th>\n",
              "      <td>540.0</td>\n",
              "      <td>0.0</td>\n",
              "      <td>0.0</td>\n",
              "      <td>162.0</td>\n",
              "      <td>2.5</td>\n",
              "      <td>1040.0</td>\n",
              "      <td>676.0</td>\n",
              "      <td>28</td>\n",
              "      <td>79.99</td>\n",
              "    </tr>\n",
              "    <tr>\n",
              "      <th>1</th>\n",
              "      <td>540.0</td>\n",
              "      <td>0.0</td>\n",
              "      <td>0.0</td>\n",
              "      <td>162.0</td>\n",
              "      <td>2.5</td>\n",
              "      <td>1055.0</td>\n",
              "      <td>676.0</td>\n",
              "      <td>28</td>\n",
              "      <td>61.89</td>\n",
              "    </tr>\n",
              "    <tr>\n",
              "      <th>2</th>\n",
              "      <td>332.5</td>\n",
              "      <td>142.5</td>\n",
              "      <td>0.0</td>\n",
              "      <td>228.0</td>\n",
              "      <td>0.0</td>\n",
              "      <td>932.0</td>\n",
              "      <td>594.0</td>\n",
              "      <td>270</td>\n",
              "      <td>40.27</td>\n",
              "    </tr>\n",
              "    <tr>\n",
              "      <th>3</th>\n",
              "      <td>332.5</td>\n",
              "      <td>142.5</td>\n",
              "      <td>0.0</td>\n",
              "      <td>228.0</td>\n",
              "      <td>0.0</td>\n",
              "      <td>932.0</td>\n",
              "      <td>594.0</td>\n",
              "      <td>365</td>\n",
              "      <td>41.05</td>\n",
              "    </tr>\n",
              "    <tr>\n",
              "      <th>4</th>\n",
              "      <td>198.6</td>\n",
              "      <td>132.4</td>\n",
              "      <td>0.0</td>\n",
              "      <td>192.0</td>\n",
              "      <td>0.0</td>\n",
              "      <td>978.4</td>\n",
              "      <td>825.5</td>\n",
              "      <td>360</td>\n",
              "      <td>44.30</td>\n",
              "    </tr>\n",
              "  </tbody>\n",
              "</table>\n",
              "</div>"
            ],
            "text/plain": [
              "   Cement  Blast Furnace Slag  Fly Ash  ...  Fine Aggregate  Age  Strength\n",
              "0   540.0                 0.0      0.0  ...           676.0   28     79.99\n",
              "1   540.0                 0.0      0.0  ...           676.0   28     61.89\n",
              "2   332.5               142.5      0.0  ...           594.0  270     40.27\n",
              "3   332.5               142.5      0.0  ...           594.0  365     41.05\n",
              "4   198.6               132.4      0.0  ...           825.5  360     44.30\n",
              "\n",
              "[5 rows x 9 columns]"
            ]
          },
          "metadata": {
            "tags": []
          },
          "execution_count": 14
        }
      ]
    },
    {
      "cell_type": "markdown",
      "metadata": {
        "id": "VKaiWkFkPHI7"
      },
      "source": [
        "## **Output the data so we can see, and analyse it using Pandas.**"
      ]
    },
    {
      "cell_type": "code",
      "metadata": {
        "colab": {
          "base_uri": "https://localhost:8080/"
        },
        "id": "52i_tXWdKReI",
        "outputId": "afdd8020-5fd9-423d-8ef6-d49a83b0360b"
      },
      "source": [
        "concrete_data.shape"
      ],
      "execution_count": 15,
      "outputs": [
        {
          "output_type": "execute_result",
          "data": {
            "text/plain": [
              "(1030, 9)"
            ]
          },
          "metadata": {
            "tags": []
          },
          "execution_count": 15
        }
      ]
    },
    {
      "cell_type": "code",
      "metadata": {
        "colab": {
          "base_uri": "https://localhost:8080/",
          "height": 295
        },
        "id": "sM_1A9QzKiJH",
        "outputId": "02762312-58f9-4c5f-efa6-90cb1d7c6a03"
      },
      "source": [
        "concrete_data.describe()"
      ],
      "execution_count": 16,
      "outputs": [
        {
          "output_type": "execute_result",
          "data": {
            "text/html": [
              "<div>\n",
              "<style scoped>\n",
              "    .dataframe tbody tr th:only-of-type {\n",
              "        vertical-align: middle;\n",
              "    }\n",
              "\n",
              "    .dataframe tbody tr th {\n",
              "        vertical-align: top;\n",
              "    }\n",
              "\n",
              "    .dataframe thead th {\n",
              "        text-align: right;\n",
              "    }\n",
              "</style>\n",
              "<table border=\"1\" class=\"dataframe\">\n",
              "  <thead>\n",
              "    <tr style=\"text-align: right;\">\n",
              "      <th></th>\n",
              "      <th>Cement</th>\n",
              "      <th>Blast Furnace Slag</th>\n",
              "      <th>Fly Ash</th>\n",
              "      <th>Water</th>\n",
              "      <th>Superplasticizer</th>\n",
              "      <th>Coarse Aggregate</th>\n",
              "      <th>Fine Aggregate</th>\n",
              "      <th>Age</th>\n",
              "      <th>Strength</th>\n",
              "    </tr>\n",
              "  </thead>\n",
              "  <tbody>\n",
              "    <tr>\n",
              "      <th>count</th>\n",
              "      <td>1030.000000</td>\n",
              "      <td>1030.000000</td>\n",
              "      <td>1030.000000</td>\n",
              "      <td>1030.000000</td>\n",
              "      <td>1030.000000</td>\n",
              "      <td>1030.000000</td>\n",
              "      <td>1030.000000</td>\n",
              "      <td>1030.000000</td>\n",
              "      <td>1030.000000</td>\n",
              "    </tr>\n",
              "    <tr>\n",
              "      <th>mean</th>\n",
              "      <td>281.167864</td>\n",
              "      <td>73.895825</td>\n",
              "      <td>54.188350</td>\n",
              "      <td>181.567282</td>\n",
              "      <td>6.204660</td>\n",
              "      <td>972.918932</td>\n",
              "      <td>773.580485</td>\n",
              "      <td>45.662136</td>\n",
              "      <td>35.817961</td>\n",
              "    </tr>\n",
              "    <tr>\n",
              "      <th>std</th>\n",
              "      <td>104.506364</td>\n",
              "      <td>86.279342</td>\n",
              "      <td>63.997004</td>\n",
              "      <td>21.354219</td>\n",
              "      <td>5.973841</td>\n",
              "      <td>77.753954</td>\n",
              "      <td>80.175980</td>\n",
              "      <td>63.169912</td>\n",
              "      <td>16.705742</td>\n",
              "    </tr>\n",
              "    <tr>\n",
              "      <th>min</th>\n",
              "      <td>102.000000</td>\n",
              "      <td>0.000000</td>\n",
              "      <td>0.000000</td>\n",
              "      <td>121.800000</td>\n",
              "      <td>0.000000</td>\n",
              "      <td>801.000000</td>\n",
              "      <td>594.000000</td>\n",
              "      <td>1.000000</td>\n",
              "      <td>2.330000</td>\n",
              "    </tr>\n",
              "    <tr>\n",
              "      <th>25%</th>\n",
              "      <td>192.375000</td>\n",
              "      <td>0.000000</td>\n",
              "      <td>0.000000</td>\n",
              "      <td>164.900000</td>\n",
              "      <td>0.000000</td>\n",
              "      <td>932.000000</td>\n",
              "      <td>730.950000</td>\n",
              "      <td>7.000000</td>\n",
              "      <td>23.710000</td>\n",
              "    </tr>\n",
              "    <tr>\n",
              "      <th>50%</th>\n",
              "      <td>272.900000</td>\n",
              "      <td>22.000000</td>\n",
              "      <td>0.000000</td>\n",
              "      <td>185.000000</td>\n",
              "      <td>6.400000</td>\n",
              "      <td>968.000000</td>\n",
              "      <td>779.500000</td>\n",
              "      <td>28.000000</td>\n",
              "      <td>34.445000</td>\n",
              "    </tr>\n",
              "    <tr>\n",
              "      <th>75%</th>\n",
              "      <td>350.000000</td>\n",
              "      <td>142.950000</td>\n",
              "      <td>118.300000</td>\n",
              "      <td>192.000000</td>\n",
              "      <td>10.200000</td>\n",
              "      <td>1029.400000</td>\n",
              "      <td>824.000000</td>\n",
              "      <td>56.000000</td>\n",
              "      <td>46.135000</td>\n",
              "    </tr>\n",
              "    <tr>\n",
              "      <th>max</th>\n",
              "      <td>540.000000</td>\n",
              "      <td>359.400000</td>\n",
              "      <td>200.100000</td>\n",
              "      <td>247.000000</td>\n",
              "      <td>32.200000</td>\n",
              "      <td>1145.000000</td>\n",
              "      <td>992.600000</td>\n",
              "      <td>365.000000</td>\n",
              "      <td>82.600000</td>\n",
              "    </tr>\n",
              "  </tbody>\n",
              "</table>\n",
              "</div>"
            ],
            "text/plain": [
              "            Cement  Blast Furnace Slag  ...          Age     Strength\n",
              "count  1030.000000         1030.000000  ...  1030.000000  1030.000000\n",
              "mean    281.167864           73.895825  ...    45.662136    35.817961\n",
              "std     104.506364           86.279342  ...    63.169912    16.705742\n",
              "min     102.000000            0.000000  ...     1.000000     2.330000\n",
              "25%     192.375000            0.000000  ...     7.000000    23.710000\n",
              "50%     272.900000           22.000000  ...    28.000000    34.445000\n",
              "75%     350.000000          142.950000  ...    56.000000    46.135000\n",
              "max     540.000000          359.400000  ...   365.000000    82.600000\n",
              "\n",
              "[8 rows x 9 columns]"
            ]
          },
          "metadata": {
            "tags": []
          },
          "execution_count": 16
        }
      ]
    },
    {
      "cell_type": "code",
      "metadata": {
        "colab": {
          "base_uri": "https://localhost:8080/"
        },
        "id": "tzY_kd4gKqdj",
        "outputId": "ebe8579c-68ef-499d-818c-ec95abf8b58a"
      },
      "source": [
        "concrete_data.isnull().sum()"
      ],
      "execution_count": 17,
      "outputs": [
        {
          "output_type": "execute_result",
          "data": {
            "text/plain": [
              "Cement                0\n",
              "Blast Furnace Slag    0\n",
              "Fly Ash               0\n",
              "Water                 0\n",
              "Superplasticizer      0\n",
              "Coarse Aggregate      0\n",
              "Fine Aggregate        0\n",
              "Age                   0\n",
              "Strength              0\n",
              "dtype: int64"
            ]
          },
          "metadata": {
            "tags": []
          },
          "execution_count": 17
        }
      ]
    },
    {
      "cell_type": "markdown",
      "metadata": {
        "id": "xL8ew0QVQIO7"
      },
      "source": [
        "# Split the Dataset into dependent and independant varaibles. that is what we are looking for, \"Target\" and what we use to get the target which is \"Predictors\", which are also called features.\n"
      ]
    },
    {
      "cell_type": "code",
      "metadata": {
        "id": "eV7z7WHzKv1l"
      },
      "source": [
        "concrete_data_columns = concrete_data.columns\n",
        "\n",
        "predictors = concrete_data[concrete_data_columns[concrete_data_columns != 'Strength']] # all columns except Strength\n",
        "target = concrete_data['Strength'] # Strength column"
      ],
      "execution_count": 18,
      "outputs": []
    },
    {
      "cell_type": "code",
      "metadata": {
        "colab": {
          "base_uri": "https://localhost:8080/",
          "height": 203
        },
        "id": "thUg8DPMK1yB",
        "outputId": "0b4d79db-97e8-4905-9365-c5cdc7e8066a"
      },
      "source": [
        "predictors.head()"
      ],
      "execution_count": 19,
      "outputs": [
        {
          "output_type": "execute_result",
          "data": {
            "text/html": [
              "<div>\n",
              "<style scoped>\n",
              "    .dataframe tbody tr th:only-of-type {\n",
              "        vertical-align: middle;\n",
              "    }\n",
              "\n",
              "    .dataframe tbody tr th {\n",
              "        vertical-align: top;\n",
              "    }\n",
              "\n",
              "    .dataframe thead th {\n",
              "        text-align: right;\n",
              "    }\n",
              "</style>\n",
              "<table border=\"1\" class=\"dataframe\">\n",
              "  <thead>\n",
              "    <tr style=\"text-align: right;\">\n",
              "      <th></th>\n",
              "      <th>Cement</th>\n",
              "      <th>Blast Furnace Slag</th>\n",
              "      <th>Fly Ash</th>\n",
              "      <th>Water</th>\n",
              "      <th>Superplasticizer</th>\n",
              "      <th>Coarse Aggregate</th>\n",
              "      <th>Fine Aggregate</th>\n",
              "      <th>Age</th>\n",
              "    </tr>\n",
              "  </thead>\n",
              "  <tbody>\n",
              "    <tr>\n",
              "      <th>0</th>\n",
              "      <td>540.0</td>\n",
              "      <td>0.0</td>\n",
              "      <td>0.0</td>\n",
              "      <td>162.0</td>\n",
              "      <td>2.5</td>\n",
              "      <td>1040.0</td>\n",
              "      <td>676.0</td>\n",
              "      <td>28</td>\n",
              "    </tr>\n",
              "    <tr>\n",
              "      <th>1</th>\n",
              "      <td>540.0</td>\n",
              "      <td>0.0</td>\n",
              "      <td>0.0</td>\n",
              "      <td>162.0</td>\n",
              "      <td>2.5</td>\n",
              "      <td>1055.0</td>\n",
              "      <td>676.0</td>\n",
              "      <td>28</td>\n",
              "    </tr>\n",
              "    <tr>\n",
              "      <th>2</th>\n",
              "      <td>332.5</td>\n",
              "      <td>142.5</td>\n",
              "      <td>0.0</td>\n",
              "      <td>228.0</td>\n",
              "      <td>0.0</td>\n",
              "      <td>932.0</td>\n",
              "      <td>594.0</td>\n",
              "      <td>270</td>\n",
              "    </tr>\n",
              "    <tr>\n",
              "      <th>3</th>\n",
              "      <td>332.5</td>\n",
              "      <td>142.5</td>\n",
              "      <td>0.0</td>\n",
              "      <td>228.0</td>\n",
              "      <td>0.0</td>\n",
              "      <td>932.0</td>\n",
              "      <td>594.0</td>\n",
              "      <td>365</td>\n",
              "    </tr>\n",
              "    <tr>\n",
              "      <th>4</th>\n",
              "      <td>198.6</td>\n",
              "      <td>132.4</td>\n",
              "      <td>0.0</td>\n",
              "      <td>192.0</td>\n",
              "      <td>0.0</td>\n",
              "      <td>978.4</td>\n",
              "      <td>825.5</td>\n",
              "      <td>360</td>\n",
              "    </tr>\n",
              "  </tbody>\n",
              "</table>\n",
              "</div>"
            ],
            "text/plain": [
              "   Cement  Blast Furnace Slag  Fly Ash  ...  Coarse Aggregate  Fine Aggregate  Age\n",
              "0   540.0                 0.0      0.0  ...            1040.0           676.0   28\n",
              "1   540.0                 0.0      0.0  ...            1055.0           676.0   28\n",
              "2   332.5               142.5      0.0  ...             932.0           594.0  270\n",
              "3   332.5               142.5      0.0  ...             932.0           594.0  365\n",
              "4   198.6               132.4      0.0  ...             978.4           825.5  360\n",
              "\n",
              "[5 rows x 8 columns]"
            ]
          },
          "metadata": {
            "tags": []
          },
          "execution_count": 19
        }
      ]
    },
    {
      "cell_type": "code",
      "metadata": {
        "colab": {
          "base_uri": "https://localhost:8080/"
        },
        "id": "3xmuI5YXK6C8",
        "outputId": "dfa12688-d0a5-4285-edf7-c6b4cd098416"
      },
      "source": [
        "target.head()"
      ],
      "execution_count": 20,
      "outputs": [
        {
          "output_type": "execute_result",
          "data": {
            "text/plain": [
              "0    79.99\n",
              "1    61.89\n",
              "2    40.27\n",
              "3    41.05\n",
              "4    44.30\n",
              "Name: Strength, dtype: float64"
            ]
          },
          "metadata": {
            "tags": []
          },
          "execution_count": 20
        }
      ]
    },
    {
      "cell_type": "code",
      "metadata": {
        "colab": {
          "base_uri": "https://localhost:8080/",
          "height": 203
        },
        "id": "RyZQTBPVK9cv",
        "outputId": "834aadf6-0665-4a7c-e8f7-6e2a050e0977"
      },
      "source": [
        "predictors_norm = (predictors - predictors.mean()) / predictors.std()\n",
        "predictors_norm.head()"
      ],
      "execution_count": 21,
      "outputs": [
        {
          "output_type": "execute_result",
          "data": {
            "text/html": [
              "<div>\n",
              "<style scoped>\n",
              "    .dataframe tbody tr th:only-of-type {\n",
              "        vertical-align: middle;\n",
              "    }\n",
              "\n",
              "    .dataframe tbody tr th {\n",
              "        vertical-align: top;\n",
              "    }\n",
              "\n",
              "    .dataframe thead th {\n",
              "        text-align: right;\n",
              "    }\n",
              "</style>\n",
              "<table border=\"1\" class=\"dataframe\">\n",
              "  <thead>\n",
              "    <tr style=\"text-align: right;\">\n",
              "      <th></th>\n",
              "      <th>Cement</th>\n",
              "      <th>Blast Furnace Slag</th>\n",
              "      <th>Fly Ash</th>\n",
              "      <th>Water</th>\n",
              "      <th>Superplasticizer</th>\n",
              "      <th>Coarse Aggregate</th>\n",
              "      <th>Fine Aggregate</th>\n",
              "      <th>Age</th>\n",
              "    </tr>\n",
              "  </thead>\n",
              "  <tbody>\n",
              "    <tr>\n",
              "      <th>0</th>\n",
              "      <td>2.476712</td>\n",
              "      <td>-0.856472</td>\n",
              "      <td>-0.846733</td>\n",
              "      <td>-0.916319</td>\n",
              "      <td>-0.620147</td>\n",
              "      <td>0.862735</td>\n",
              "      <td>-1.217079</td>\n",
              "      <td>-0.279597</td>\n",
              "    </tr>\n",
              "    <tr>\n",
              "      <th>1</th>\n",
              "      <td>2.476712</td>\n",
              "      <td>-0.856472</td>\n",
              "      <td>-0.846733</td>\n",
              "      <td>-0.916319</td>\n",
              "      <td>-0.620147</td>\n",
              "      <td>1.055651</td>\n",
              "      <td>-1.217079</td>\n",
              "      <td>-0.279597</td>\n",
              "    </tr>\n",
              "    <tr>\n",
              "      <th>2</th>\n",
              "      <td>0.491187</td>\n",
              "      <td>0.795140</td>\n",
              "      <td>-0.846733</td>\n",
              "      <td>2.174405</td>\n",
              "      <td>-1.038638</td>\n",
              "      <td>-0.526262</td>\n",
              "      <td>-2.239829</td>\n",
              "      <td>3.551340</td>\n",
              "    </tr>\n",
              "    <tr>\n",
              "      <th>3</th>\n",
              "      <td>0.491187</td>\n",
              "      <td>0.795140</td>\n",
              "      <td>-0.846733</td>\n",
              "      <td>2.174405</td>\n",
              "      <td>-1.038638</td>\n",
              "      <td>-0.526262</td>\n",
              "      <td>-2.239829</td>\n",
              "      <td>5.055221</td>\n",
              "    </tr>\n",
              "    <tr>\n",
              "      <th>4</th>\n",
              "      <td>-0.790075</td>\n",
              "      <td>0.678079</td>\n",
              "      <td>-0.846733</td>\n",
              "      <td>0.488555</td>\n",
              "      <td>-1.038638</td>\n",
              "      <td>0.070492</td>\n",
              "      <td>0.647569</td>\n",
              "      <td>4.976069</td>\n",
              "    </tr>\n",
              "  </tbody>\n",
              "</table>\n",
              "</div>"
            ],
            "text/plain": [
              "     Cement  Blast Furnace Slag  ...  Fine Aggregate       Age\n",
              "0  2.476712           -0.856472  ...       -1.217079 -0.279597\n",
              "1  2.476712           -0.856472  ...       -1.217079 -0.279597\n",
              "2  0.491187            0.795140  ...       -2.239829  3.551340\n",
              "3  0.491187            0.795140  ...       -2.239829  5.055221\n",
              "4 -0.790075            0.678079  ...        0.647569  4.976069\n",
              "\n",
              "[5 rows x 8 columns]"
            ]
          },
          "metadata": {
            "tags": []
          },
          "execution_count": 21
        }
      ]
    },
    {
      "cell_type": "code",
      "metadata": {
        "id": "9_D4JZ70LBbX"
      },
      "source": [
        "n_cols = predictors_norm.shape[1] # number of predictors\n"
      ],
      "execution_count": 22,
      "outputs": []
    },
    {
      "cell_type": "code",
      "metadata": {
        "id": "RMTqvFSXLX0n"
      },
      "source": [
        "# define regression model\n",
        "def regression_model():\n",
        "    # create model\n",
        "    model = Sequential()\n",
        "    model.add(Dense(50, activation='relu', input_shape=(n_cols,)))\n",
        "    model.add(Dense(50, activation='relu'))\n",
        "    model.add(Dense(1))\n",
        "    \n",
        "    # compile model\n",
        "    model.compile(optimizer='adam', loss='mean_squared_error')\n",
        "    return model"
      ],
      "execution_count": 23,
      "outputs": []
    },
    {
      "cell_type": "code",
      "metadata": {
        "id": "UKqzebCTLcX8"
      },
      "source": [
        "# build the model\n",
        "model = regression_model()"
      ],
      "execution_count": 24,
      "outputs": []
    },
    {
      "cell_type": "code",
      "metadata": {
        "colab": {
          "base_uri": "https://localhost:8080/"
        },
        "id": "XP32c1AkLgGf",
        "outputId": "efd04109-10a7-49b2-ec86-a0f5aaad0a72"
      },
      "source": [
        "# fit the model\n",
        "model.fit(predictors_norm, target, validation_split=0.3, epochs=50, verbose=2)"
      ],
      "execution_count": 25,
      "outputs": [
        {
          "output_type": "stream",
          "text": [
            "Epoch 1/100\n",
            "23/23 - 15s - loss: 1698.1317 - val_loss: 1189.9132\n",
            "Epoch 2/100\n",
            "23/23 - 0s - loss: 1591.7388 - val_loss: 1101.3759\n",
            "Epoch 3/100\n",
            "23/23 - 0s - loss: 1440.2180 - val_loss: 963.7808\n",
            "Epoch 4/100\n",
            "23/23 - 0s - loss: 1202.3130 - val_loss: 760.0726\n",
            "Epoch 5/100\n",
            "23/23 - 0s - loss: 862.8348 - val_loss: 522.9415\n",
            "Epoch 6/100\n",
            "23/23 - 0s - loss: 520.0082 - val_loss: 321.0190\n",
            "Epoch 7/100\n",
            "23/23 - 0s - loss: 298.2442 - val_loss: 214.3805\n",
            "Epoch 8/100\n",
            "23/23 - 0s - loss: 223.6868 - val_loss: 188.6359\n",
            "Epoch 9/100\n",
            "23/23 - 0s - loss: 209.7953 - val_loss: 183.8350\n",
            "Epoch 10/100\n",
            "23/23 - 0s - loss: 199.5290 - val_loss: 179.4361\n",
            "Epoch 11/100\n",
            "23/23 - 0s - loss: 191.4227 - val_loss: 176.5671\n",
            "Epoch 12/100\n",
            "23/23 - 0s - loss: 185.5787 - val_loss: 174.7630\n",
            "Epoch 13/100\n",
            "23/23 - 0s - loss: 180.5093 - val_loss: 172.7216\n",
            "Epoch 14/100\n",
            "23/23 - 0s - loss: 176.2099 - val_loss: 171.4049\n",
            "Epoch 15/100\n",
            "23/23 - 0s - loss: 173.4205 - val_loss: 170.8058\n",
            "Epoch 16/100\n",
            "23/23 - 0s - loss: 169.4897 - val_loss: 165.2624\n",
            "Epoch 17/100\n",
            "23/23 - 0s - loss: 167.0184 - val_loss: 163.8582\n",
            "Epoch 18/100\n",
            "23/23 - 0s - loss: 164.4228 - val_loss: 162.9586\n",
            "Epoch 19/100\n",
            "23/23 - 0s - loss: 161.9021 - val_loss: 162.4134\n",
            "Epoch 20/100\n",
            "23/23 - 0s - loss: 160.2196 - val_loss: 161.0300\n",
            "Epoch 21/100\n",
            "23/23 - 0s - loss: 158.2511 - val_loss: 159.2297\n",
            "Epoch 22/100\n",
            "23/23 - 0s - loss: 156.2172 - val_loss: 158.4172\n",
            "Epoch 23/100\n",
            "23/23 - 0s - loss: 155.5881 - val_loss: 157.8272\n",
            "Epoch 24/100\n",
            "23/23 - 0s - loss: 153.2506 - val_loss: 156.7947\n",
            "Epoch 25/100\n",
            "23/23 - 0s - loss: 151.2601 - val_loss: 156.9676\n",
            "Epoch 26/100\n",
            "23/23 - 0s - loss: 149.6425 - val_loss: 157.9683\n",
            "Epoch 27/100\n",
            "23/23 - 0s - loss: 148.2342 - val_loss: 156.3000\n",
            "Epoch 28/100\n",
            "23/23 - 0s - loss: 146.7009 - val_loss: 156.5161\n",
            "Epoch 29/100\n",
            "23/23 - 0s - loss: 145.0058 - val_loss: 156.3725\n",
            "Epoch 30/100\n",
            "23/23 - 0s - loss: 144.6175 - val_loss: 154.2130\n",
            "Epoch 31/100\n",
            "23/23 - 0s - loss: 141.9211 - val_loss: 156.0886\n",
            "Epoch 32/100\n",
            "23/23 - 0s - loss: 140.5078 - val_loss: 155.6927\n",
            "Epoch 33/100\n",
            "23/23 - 0s - loss: 139.1361 - val_loss: 154.1526\n",
            "Epoch 34/100\n",
            "23/23 - 0s - loss: 137.6980 - val_loss: 152.3709\n",
            "Epoch 35/100\n",
            "23/23 - 0s - loss: 135.6228 - val_loss: 155.5912\n",
            "Epoch 36/100\n",
            "23/23 - 0s - loss: 134.2649 - val_loss: 153.9583\n",
            "Epoch 37/100\n",
            "23/23 - 0s - loss: 133.0269 - val_loss: 153.3501\n",
            "Epoch 38/100\n",
            "23/23 - 0s - loss: 131.1264 - val_loss: 153.4253\n",
            "Epoch 39/100\n",
            "23/23 - 0s - loss: 129.4742 - val_loss: 152.6724\n",
            "Epoch 40/100\n",
            "23/23 - 0s - loss: 128.2897 - val_loss: 156.0098\n",
            "Epoch 41/100\n",
            "23/23 - 0s - loss: 126.2762 - val_loss: 154.4985\n",
            "Epoch 42/100\n",
            "23/23 - 0s - loss: 124.4309 - val_loss: 152.8489\n",
            "Epoch 43/100\n",
            "23/23 - 0s - loss: 122.8159 - val_loss: 153.1416\n",
            "Epoch 44/100\n",
            "23/23 - 0s - loss: 120.8960 - val_loss: 156.7691\n",
            "Epoch 45/100\n",
            "23/23 - 0s - loss: 119.0936 - val_loss: 152.2973\n",
            "Epoch 46/100\n",
            "23/23 - 0s - loss: 117.4859 - val_loss: 155.0479\n",
            "Epoch 47/100\n",
            "23/23 - 0s - loss: 115.4097 - val_loss: 153.7229\n",
            "Epoch 48/100\n",
            "23/23 - 0s - loss: 113.3564 - val_loss: 152.0201\n",
            "Epoch 49/100\n",
            "23/23 - 0s - loss: 110.8510 - val_loss: 150.7041\n",
            "Epoch 50/100\n",
            "23/23 - 0s - loss: 108.5963 - val_loss: 153.4013\n",
            "Epoch 51/100\n",
            "23/23 - 0s - loss: 106.5965 - val_loss: 151.7056\n",
            "Epoch 52/100\n",
            "23/23 - 0s - loss: 104.0191 - val_loss: 151.9840\n",
            "Epoch 53/100\n",
            "23/23 - 0s - loss: 101.4977 - val_loss: 148.0603\n",
            "Epoch 54/100\n",
            "23/23 - 0s - loss: 98.7373 - val_loss: 152.5627\n",
            "Epoch 55/100\n",
            "23/23 - 0s - loss: 96.1856 - val_loss: 151.1178\n",
            "Epoch 56/100\n",
            "23/23 - 0s - loss: 92.9262 - val_loss: 145.0940\n",
            "Epoch 57/100\n",
            "23/23 - 0s - loss: 89.9387 - val_loss: 149.0546\n",
            "Epoch 58/100\n",
            "23/23 - 0s - loss: 86.8844 - val_loss: 145.0988\n",
            "Epoch 59/100\n",
            "23/23 - 0s - loss: 84.0407 - val_loss: 143.6015\n",
            "Epoch 60/100\n",
            "23/23 - 0s - loss: 80.7113 - val_loss: 138.4859\n",
            "Epoch 61/100\n",
            "23/23 - 0s - loss: 77.4532 - val_loss: 141.6241\n",
            "Epoch 62/100\n",
            "23/23 - 0s - loss: 75.1447 - val_loss: 137.3875\n",
            "Epoch 63/100\n",
            "23/23 - 0s - loss: 71.9265 - val_loss: 141.9442\n",
            "Epoch 64/100\n",
            "23/23 - 0s - loss: 69.1013 - val_loss: 134.9151\n",
            "Epoch 65/100\n",
            "23/23 - 0s - loss: 67.0531 - val_loss: 134.7915\n",
            "Epoch 66/100\n",
            "23/23 - 0s - loss: 64.3623 - val_loss: 132.7334\n",
            "Epoch 67/100\n",
            "23/23 - 0s - loss: 62.3771 - val_loss: 131.4496\n",
            "Epoch 68/100\n",
            "23/23 - 0s - loss: 60.0534 - val_loss: 124.9848\n",
            "Epoch 69/100\n",
            "23/23 - 0s - loss: 58.7758 - val_loss: 130.4436\n",
            "Epoch 70/100\n",
            "23/23 - 0s - loss: 56.2120 - val_loss: 128.1808\n",
            "Epoch 71/100\n",
            "23/23 - 0s - loss: 54.3960 - val_loss: 127.2476\n",
            "Epoch 72/100\n",
            "23/23 - 0s - loss: 53.3118 - val_loss: 127.5878\n",
            "Epoch 73/100\n",
            "23/23 - 0s - loss: 51.6515 - val_loss: 117.2701\n",
            "Epoch 74/100\n",
            "23/23 - 0s - loss: 51.0690 - val_loss: 119.9250\n",
            "Epoch 75/100\n",
            "23/23 - 0s - loss: 49.1226 - val_loss: 117.7568\n",
            "Epoch 76/100\n",
            "23/23 - 0s - loss: 47.4580 - val_loss: 120.7983\n",
            "Epoch 77/100\n",
            "23/23 - 0s - loss: 46.6701 - val_loss: 122.3093\n",
            "Epoch 78/100\n",
            "23/23 - 0s - loss: 46.0442 - val_loss: 117.2471\n",
            "Epoch 79/100\n",
            "23/23 - 0s - loss: 44.6611 - val_loss: 116.1199\n",
            "Epoch 80/100\n",
            "23/23 - 0s - loss: 43.8484 - val_loss: 119.7016\n",
            "Epoch 81/100\n",
            "23/23 - 0s - loss: 42.7918 - val_loss: 118.0282\n",
            "Epoch 82/100\n",
            "23/23 - 0s - loss: 42.8066 - val_loss: 119.8616\n",
            "Epoch 83/100\n",
            "23/23 - 0s - loss: 41.4987 - val_loss: 112.0907\n",
            "Epoch 84/100\n",
            "23/23 - 0s - loss: 41.0414 - val_loss: 114.7632\n",
            "Epoch 85/100\n",
            "23/23 - 0s - loss: 40.0774 - val_loss: 113.7866\n",
            "Epoch 86/100\n",
            "23/23 - 0s - loss: 39.3590 - val_loss: 111.5470\n",
            "Epoch 87/100\n",
            "23/23 - 0s - loss: 38.5226 - val_loss: 118.5221\n",
            "Epoch 88/100\n",
            "23/23 - 0s - loss: 38.5570 - val_loss: 108.2307\n",
            "Epoch 89/100\n",
            "23/23 - 0s - loss: 38.2657 - val_loss: 121.5021\n",
            "Epoch 90/100\n",
            "23/23 - 0s - loss: 38.0903 - val_loss: 111.0890\n",
            "Epoch 91/100\n",
            "23/23 - 0s - loss: 36.6735 - val_loss: 112.1256\n",
            "Epoch 92/100\n",
            "23/23 - 0s - loss: 36.2587 - val_loss: 111.1968\n",
            "Epoch 93/100\n",
            "23/23 - 0s - loss: 35.7609 - val_loss: 114.5605\n",
            "Epoch 94/100\n",
            "23/23 - 0s - loss: 35.3508 - val_loss: 111.4907\n",
            "Epoch 95/100\n",
            "23/23 - 0s - loss: 34.5496 - val_loss: 122.4063\n",
            "Epoch 96/100\n",
            "23/23 - 0s - loss: 35.0615 - val_loss: 116.1365\n",
            "Epoch 97/100\n",
            "23/23 - 0s - loss: 34.3679 - val_loss: 110.1546\n",
            "Epoch 98/100\n",
            "23/23 - 0s - loss: 33.3777 - val_loss: 107.4017\n",
            "Epoch 99/100\n",
            "23/23 - 0s - loss: 33.2482 - val_loss: 116.8428\n",
            "Epoch 100/100\n",
            "23/23 - 0s - loss: 32.8815 - val_loss: 109.1852\n"
          ],
          "name": "stdout"
        },
        {
          "output_type": "execute_result",
          "data": {
            "text/plain": [
              "<keras.callbacks.History at 0x7fade812cb10>"
            ]
          },
          "metadata": {
            "tags": []
          },
          "execution_count": 25
        }
      ]
    }
  ]
}
